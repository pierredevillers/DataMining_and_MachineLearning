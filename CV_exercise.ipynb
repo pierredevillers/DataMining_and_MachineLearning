{
  "nbformat": 4,
  "nbformat_minor": 0,
  "metadata": {
    "colab": {
      "provenance": [],
      "collapsed_sections": [],
      "authorship_tag": "ABX9TyMyeSq95oGzbtJQo0tYosrN",
      "include_colab_link": true
    },
    "kernelspec": {
      "name": "python3",
      "display_name": "Python 3"
    },
    "language_info": {
      "name": "python"
    }
  },
  "cells": [
    {
      "cell_type": "markdown",
      "metadata": {
        "id": "view-in-github",
        "colab_type": "text"
      },
      "source": [
        "<a href=\"https://colab.research.google.com/github/pierredevillers/DataMining_and_MachineLearning/blob/master/CV_exercise.ipynb\" target=\"_parent\"><img src=\"https://colab.research.google.com/assets/colab-badge.svg\" alt=\"Open In Colab\"/></a>"
      ]
    },
    {
      "cell_type": "markdown",
      "source": [
        "#Pierre Devillers \n",
        "\n",
        "<img src='https://www.business2community.com/wp-content/uploads/2017/08/blank-profile-picture-973460_640.png' width=\"200\">\n",
        "\n",
        "[pierre.devillers@unil.ch](mailto:pierre.devillers@unil.ch)\n",
        "\n",
        "###Experience\n",
        "- Marketing & Communication trainee at RSM Switzerland, Lausanne\n",
        "- Community manager at Wine Society, Lausanne\n",
        "- Construction worker at Grisoni-Zaugg SA, Geneva \n",
        "---\n",
        "###Education\n",
        "- [MSc Information Systems, UNIL HEC, Lausanne](https://www.unil.ch/formations/en/home/menuinst/masters/systemes-dinformation.html)\n",
        "- [Exchange year at the Hanken School of Economics, Helsinki, Finland](https://www.hanken.fi/en/students/study-programmes/courses-schedules-and-study-plans)\n",
        "- [BSc Management Sciences, UNIL HEC, Lausanne](https://www.unil.ch/hec/en/bachelors)\n",
        "---\n",
        "###Favourite recent projects \n",
        "\n",
        "First column name | Second column name\n",
        "--- | ---\n",
        "Row 1, Col 1 | Row 1, Col 2\n",
        "Row 2, Col 1 | Row 2, Col 2\n",
        "\n",
        "---\n",
        "\n",
        "###Skills\n",
        "- Computer\n",
        " - Programming: R, Python, Java\n",
        " - Office suite\n",
        "- Languages\n",
        " - English, French, Spanish \n",
        "\n",
        "---  \n",
        "\n",
        "###Hobbies\n",
        "1. Rugby \n",
        "2. Cinema\n",
        "3. Videogames\n",
        "4. Travel\n",
        "---\n",
        "###LinkedIn profile \n",
        "[Pierre Devillers](https://www.linkedin.com/in/pierre-devillers/)"
      ],
      "metadata": {
        "id": "gGrDeJ_-KYvF"
      }
    }
  ]
}